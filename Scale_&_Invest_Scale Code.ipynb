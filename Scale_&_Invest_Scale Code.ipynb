{
  "nbformat": 4,
  "nbformat_minor": 0,
  "metadata": {
    "colab": {
      "name": " Scale & Invest Scale.ipynb",
      "provenance": [],
      "collapsed_sections": []
    },
    "kernelspec": {
      "name": "python3",
      "display_name": "Python 3"
    },
    "language_info": {
      "name": "python"
    }
  },
  "cells": [
    {
      "cell_type": "markdown",
      "metadata": {
        "id": "O8Y1ngm4sl4x"
      },
      "source": [
        "Import Libraries"
      ]
    },
    {
      "cell_type": "code",
      "metadata": {
        "id": "_uMNOfiqr6Z2"
      },
      "source": [
        "import pandas as pd\n",
        "from sklearn.preprocessing import MinMaxScaler"
      ],
      "execution_count": 1,
      "outputs": []
    },
    {
      "cell_type": "markdown",
      "metadata": {
        "id": "E2j3FSoXsq10"
      },
      "source": [
        "Read Raw Data"
      ]
    },
    {
      "cell_type": "code",
      "metadata": {
        "id": "-hnjhL5osR5M"
      },
      "source": [
        "raw = pd.read_csv('TexasTurbine.csv')"
      ],
      "execution_count": 2,
      "outputs": []
    },
    {
      "cell_type": "code",
      "metadata": {
        "colab": {
          "base_uri": "https://localhost:8080/"
        },
        "id": "14Pi-U3esXAA",
        "outputId": "1506c5d7-73ff-4d91-a275-7ab8743c2595"
      },
      "source": [
        "raw.info()"
      ],
      "execution_count": 4,
      "outputs": [
        {
          "output_type": "stream",
          "name": "stdout",
          "text": [
            "<class 'pandas.core.frame.DataFrame'>\n",
            "RangeIndex: 8760 entries, 0 to 8759\n",
            "Data columns (total 6 columns):\n",
            " #   Column                         Non-Null Count  Dtype  \n",
            "---  ------                         --------------  -----  \n",
            " 0   Time stamp                     8760 non-null   object \n",
            " 1   System power generated | (kW)  8760 non-null   float64\n",
            " 2   Wind speed | (m/s)             8760 non-null   float64\n",
            " 3   Wind direction | (deg)         8760 non-null   int64  \n",
            " 4   Pressure | (atm)               8760 non-null   float64\n",
            " 5   Air temperature | ('C)         8760 non-null   float64\n",
            "dtypes: float64(4), int64(1), object(1)\n",
            "memory usage: 410.8+ KB\n"
          ]
        }
      ]
    },
    {
      "cell_type": "code",
      "metadata": {
        "colab": {
          "base_uri": "https://localhost:8080/",
          "height": 300
        },
        "id": "kUs1N4YLsfdl",
        "outputId": "3c35897b-f202-4499-aa5f-45a0d50084c8"
      },
      "source": [
        "raw.describe()"
      ],
      "execution_count": 5,
      "outputs": [
        {
          "output_type": "execute_result",
          "data": {
            "text/html": [
              "<div>\n",
              "<style scoped>\n",
              "    .dataframe tbody tr th:only-of-type {\n",
              "        vertical-align: middle;\n",
              "    }\n",
              "\n",
              "    .dataframe tbody tr th {\n",
              "        vertical-align: top;\n",
              "    }\n",
              "\n",
              "    .dataframe thead th {\n",
              "        text-align: right;\n",
              "    }\n",
              "</style>\n",
              "<table border=\"1\" class=\"dataframe\">\n",
              "  <thead>\n",
              "    <tr style=\"text-align: right;\">\n",
              "      <th></th>\n",
              "      <th>System power generated | (kW)</th>\n",
              "      <th>Wind speed | (m/s)</th>\n",
              "      <th>Wind direction | (deg)</th>\n",
              "      <th>Pressure | (atm)</th>\n",
              "      <th>Air temperature | ('C)</th>\n",
              "    </tr>\n",
              "  </thead>\n",
              "  <tbody>\n",
              "    <tr>\n",
              "      <th>count</th>\n",
              "      <td>8760.000000</td>\n",
              "      <td>8760.000000</td>\n",
              "      <td>8760.000000</td>\n",
              "      <td>8760.000000</td>\n",
              "      <td>8760.000000</td>\n",
              "    </tr>\n",
              "    <tr>\n",
              "      <th>mean</th>\n",
              "      <td>964.467934</td>\n",
              "      <td>7.376120</td>\n",
              "      <td>146.616210</td>\n",
              "      <td>0.992368</td>\n",
              "      <td>22.147298</td>\n",
              "    </tr>\n",
              "    <tr>\n",
              "      <th>std</th>\n",
              "      <td>878.558112</td>\n",
              "      <td>3.138291</td>\n",
              "      <td>84.678754</td>\n",
              "      <td>0.005332</td>\n",
              "      <td>4.855232</td>\n",
              "    </tr>\n",
              "    <tr>\n",
              "      <th>min</th>\n",
              "      <td>0.000000</td>\n",
              "      <td>0.119000</td>\n",
              "      <td>0.000000</td>\n",
              "      <td>0.974514</td>\n",
              "      <td>3.263000</td>\n",
              "    </tr>\n",
              "    <tr>\n",
              "      <th>25%</th>\n",
              "      <td>215.951500</td>\n",
              "      <td>5.121000</td>\n",
              "      <td>99.000000</td>\n",
              "      <td>0.988925</td>\n",
              "      <td>19.463000</td>\n",
              "    </tr>\n",
              "    <tr>\n",
              "      <th>50%</th>\n",
              "      <td>693.968500</td>\n",
              "      <td>7.340500</td>\n",
              "      <td>135.000000</td>\n",
              "      <td>0.991495</td>\n",
              "      <td>22.763000</td>\n",
              "    </tr>\n",
              "    <tr>\n",
              "      <th>75%</th>\n",
              "      <td>1562.287500</td>\n",
              "      <td>9.599000</td>\n",
              "      <td>169.000000</td>\n",
              "      <td>0.995045</td>\n",
              "      <td>26.063000</td>\n",
              "    </tr>\n",
              "    <tr>\n",
              "      <th>max</th>\n",
              "      <td>3004.010000</td>\n",
              "      <td>19.743000</td>\n",
              "      <td>360.000000</td>\n",
              "      <td>1.014510</td>\n",
              "      <td>32.963000</td>\n",
              "    </tr>\n",
              "  </tbody>\n",
              "</table>\n",
              "</div>"
            ],
            "text/plain": [
              "       System power generated | (kW)  ...  Air temperature | ('C)\n",
              "count                    8760.000000  ...             8760.000000\n",
              "mean                      964.467934  ...               22.147298\n",
              "std                       878.558112  ...                4.855232\n",
              "min                         0.000000  ...                3.263000\n",
              "25%                       215.951500  ...               19.463000\n",
              "50%                       693.968500  ...               22.763000\n",
              "75%                      1562.287500  ...               26.063000\n",
              "max                      3004.010000  ...               32.963000\n",
              "\n",
              "[8 rows x 5 columns]"
            ]
          },
          "metadata": {},
          "execution_count": 5
        }
      ]
    },
    {
      "cell_type": "code",
      "metadata": {
        "colab": {
          "base_uri": "https://localhost:8080/",
          "height": 423
        },
        "id": "56MUEBC4tC_h",
        "outputId": "dca50ab1-cefc-4863-9a50-5cca0e501c90"
      },
      "source": [
        "selected_features = raw[[\"System power generated | (kW)\", \"Wind speed | (m/s)\", \"Wind direction | (deg)\", \"Pressure | (atm)\", \"Air temperature | ('C)\"]]"
      ],
      "execution_count": 10,
      "outputs": [
        {
          "output_type": "execute_result",
          "data": {
            "text/html": [
              "<div>\n",
              "<style scoped>\n",
              "    .dataframe tbody tr th:only-of-type {\n",
              "        vertical-align: middle;\n",
              "    }\n",
              "\n",
              "    .dataframe tbody tr th {\n",
              "        vertical-align: top;\n",
              "    }\n",
              "\n",
              "    .dataframe thead th {\n",
              "        text-align: right;\n",
              "    }\n",
              "</style>\n",
              "<table border=\"1\" class=\"dataframe\">\n",
              "  <thead>\n",
              "    <tr style=\"text-align: right;\">\n",
              "      <th></th>\n",
              "      <th>Time stamp</th>\n",
              "      <th>System power generated | (kW)</th>\n",
              "      <th>Wind speed | (m/s)</th>\n",
              "      <th>Wind direction | (deg)</th>\n",
              "      <th>Pressure | (atm)</th>\n",
              "      <th>Air temperature | ('C)</th>\n",
              "    </tr>\n",
              "  </thead>\n",
              "  <tbody>\n",
              "    <tr>\n",
              "      <th>0</th>\n",
              "      <td>Jan 1, 12:00 am</td>\n",
              "      <td>1766.64</td>\n",
              "      <td>9.926</td>\n",
              "      <td>128</td>\n",
              "      <td>1.000480</td>\n",
              "      <td>18.263</td>\n",
              "    </tr>\n",
              "    <tr>\n",
              "      <th>1</th>\n",
              "      <td>Jan 1, 01:00 am</td>\n",
              "      <td>1433.83</td>\n",
              "      <td>9.273</td>\n",
              "      <td>135</td>\n",
              "      <td>0.999790</td>\n",
              "      <td>18.363</td>\n",
              "    </tr>\n",
              "    <tr>\n",
              "      <th>2</th>\n",
              "      <td>Jan 1, 02:00 am</td>\n",
              "      <td>1167.23</td>\n",
              "      <td>8.660</td>\n",
              "      <td>142</td>\n",
              "      <td>0.999592</td>\n",
              "      <td>18.663</td>\n",
              "    </tr>\n",
              "    <tr>\n",
              "      <th>3</th>\n",
              "      <td>Jan 1, 03:00 am</td>\n",
              "      <td>1524.59</td>\n",
              "      <td>9.461</td>\n",
              "      <td>148</td>\n",
              "      <td>0.998309</td>\n",
              "      <td>18.763</td>\n",
              "    </tr>\n",
              "    <tr>\n",
              "      <th>4</th>\n",
              "      <td>Jan 1, 04:00 am</td>\n",
              "      <td>1384.28</td>\n",
              "      <td>9.184</td>\n",
              "      <td>150</td>\n",
              "      <td>0.998507</td>\n",
              "      <td>18.963</td>\n",
              "    </tr>\n",
              "    <tr>\n",
              "      <th>...</th>\n",
              "      <td>...</td>\n",
              "      <td>...</td>\n",
              "      <td>...</td>\n",
              "      <td>...</td>\n",
              "      <td>...</td>\n",
              "      <td>...</td>\n",
              "    </tr>\n",
              "    <tr>\n",
              "      <th>8755</th>\n",
              "      <td>Dec 31, 07:00 pm</td>\n",
              "      <td>1234.70</td>\n",
              "      <td>8.848</td>\n",
              "      <td>129</td>\n",
              "      <td>0.998604</td>\n",
              "      <td>19.663</td>\n",
              "    </tr>\n",
              "    <tr>\n",
              "      <th>8756</th>\n",
              "      <td>Dec 31, 08:00 pm</td>\n",
              "      <td>1105.37</td>\n",
              "      <td>8.502</td>\n",
              "      <td>118</td>\n",
              "      <td>1.000090</td>\n",
              "      <td>19.063</td>\n",
              "    </tr>\n",
              "    <tr>\n",
              "      <th>8757</th>\n",
              "      <td>Dec 31, 09:00 pm</td>\n",
              "      <td>1405.71</td>\n",
              "      <td>9.224</td>\n",
              "      <td>117</td>\n",
              "      <td>0.998408</td>\n",
              "      <td>18.463</td>\n",
              "    </tr>\n",
              "    <tr>\n",
              "      <th>8758</th>\n",
              "      <td>Dec 31, 10:00 pm</td>\n",
              "      <td>1221.36</td>\n",
              "      <td>8.799</td>\n",
              "      <td>116</td>\n",
              "      <td>0.998013</td>\n",
              "      <td>18.063</td>\n",
              "    </tr>\n",
              "    <tr>\n",
              "      <th>8759</th>\n",
              "      <td>Dec 31, 11:00 pm</td>\n",
              "      <td>1676.77</td>\n",
              "      <td>9.748</td>\n",
              "      <td>121</td>\n",
              "      <td>1.000380</td>\n",
              "      <td>18.163</td>\n",
              "    </tr>\n",
              "  </tbody>\n",
              "</table>\n",
              "<p>8760 rows × 6 columns</p>\n",
              "</div>"
            ],
            "text/plain": [
              "            Time stamp  ...  Air temperature | ('C)\n",
              "0      Jan 1, 12:00 am  ...                  18.263\n",
              "1      Jan 1, 01:00 am  ...                  18.363\n",
              "2      Jan 1, 02:00 am  ...                  18.663\n",
              "3      Jan 1, 03:00 am  ...                  18.763\n",
              "4      Jan 1, 04:00 am  ...                  18.963\n",
              "...                ...  ...                     ...\n",
              "8755  Dec 31, 07:00 pm  ...                  19.663\n",
              "8756  Dec 31, 08:00 pm  ...                  19.063\n",
              "8757  Dec 31, 09:00 pm  ...                  18.463\n",
              "8758  Dec 31, 10:00 pm  ...                  18.063\n",
              "8759  Dec 31, 11:00 pm  ...                  18.163\n",
              "\n",
              "[8760 rows x 6 columns]"
            ]
          },
          "metadata": {},
          "execution_count": 10
        }
      ]
    },
    {
      "cell_type": "code",
      "metadata": {
        "colab": {
          "base_uri": "https://localhost:8080/"
        },
        "id": "doTkmYo8t5hs",
        "outputId": "9032421b-af8f-446d-8a3e-bc82067cde66"
      },
      "source": [
        "selected_features.shape"
      ],
      "execution_count": 12,
      "outputs": [
        {
          "output_type": "execute_result",
          "data": {
            "text/plain": [
              "(8760, 5)"
            ]
          },
          "metadata": {},
          "execution_count": 12
        }
      ]
    },
    {
      "cell_type": "markdown",
      "metadata": {
        "id": "gg5sBAwQswP9"
      },
      "source": [
        "Scale Data"
      ]
    },
    {
      "cell_type": "code",
      "metadata": {
        "id": "VaP9lzPwxGPG"
      },
      "source": [
        "#Scaling data between 0 and 1\n",
        "scaler = MinMaxScaler()\n",
        "scaler.fit(selected_features)\n",
        "ts_scaled = scaler.transform(selected_features)"
      ],
      "execution_count": 11,
      "outputs": []
    },
    {
      "cell_type": "code",
      "metadata": {
        "colab": {
          "base_uri": "https://localhost:8080/",
          "height": 300
        },
        "id": "GEvO2yYWuQMc",
        "outputId": "f5719ce5-100f-4264-e83f-b8c82a38e51d"
      },
      "source": [
        "ts_scaled = pd.DataFrame(ts_scaled)\n",
        "ts_scaled.describe()"
      ],
      "execution_count": 15,
      "outputs": [
        {
          "output_type": "execute_result",
          "data": {
            "text/html": [
              "<div>\n",
              "<style scoped>\n",
              "    .dataframe tbody tr th:only-of-type {\n",
              "        vertical-align: middle;\n",
              "    }\n",
              "\n",
              "    .dataframe tbody tr th {\n",
              "        vertical-align: top;\n",
              "    }\n",
              "\n",
              "    .dataframe thead th {\n",
              "        text-align: right;\n",
              "    }\n",
              "</style>\n",
              "<table border=\"1\" class=\"dataframe\">\n",
              "  <thead>\n",
              "    <tr style=\"text-align: right;\">\n",
              "      <th></th>\n",
              "      <th>0</th>\n",
              "      <th>1</th>\n",
              "      <th>2</th>\n",
              "      <th>3</th>\n",
              "      <th>4</th>\n",
              "    </tr>\n",
              "  </thead>\n",
              "  <tbody>\n",
              "    <tr>\n",
              "      <th>count</th>\n",
              "      <td>8760.000000</td>\n",
              "      <td>8760.000000</td>\n",
              "      <td>8760.000000</td>\n",
              "      <td>8760.000000</td>\n",
              "      <td>8760.000000</td>\n",
              "    </tr>\n",
              "    <tr>\n",
              "      <th>mean</th>\n",
              "      <td>0.321060</td>\n",
              "      <td>0.369808</td>\n",
              "      <td>0.407267</td>\n",
              "      <td>0.446389</td>\n",
              "      <td>0.635835</td>\n",
              "    </tr>\n",
              "    <tr>\n",
              "      <th>std</th>\n",
              "      <td>0.292462</td>\n",
              "      <td>0.159921</td>\n",
              "      <td>0.235219</td>\n",
              "      <td>0.133313</td>\n",
              "      <td>0.163476</td>\n",
              "    </tr>\n",
              "    <tr>\n",
              "      <th>min</th>\n",
              "      <td>0.000000</td>\n",
              "      <td>0.000000</td>\n",
              "      <td>0.000000</td>\n",
              "      <td>0.000000</td>\n",
              "      <td>0.000000</td>\n",
              "    </tr>\n",
              "    <tr>\n",
              "      <th>25%</th>\n",
              "      <td>0.071888</td>\n",
              "      <td>0.254892</td>\n",
              "      <td>0.275000</td>\n",
              "      <td>0.360311</td>\n",
              "      <td>0.545455</td>\n",
              "    </tr>\n",
              "    <tr>\n",
              "      <th>50%</th>\n",
              "      <td>0.231014</td>\n",
              "      <td>0.367993</td>\n",
              "      <td>0.375000</td>\n",
              "      <td>0.424567</td>\n",
              "      <td>0.656566</td>\n",
              "    </tr>\n",
              "    <tr>\n",
              "      <th>75%</th>\n",
              "      <td>0.520067</td>\n",
              "      <td>0.483082</td>\n",
              "      <td>0.469444</td>\n",
              "      <td>0.513326</td>\n",
              "      <td>0.767677</td>\n",
              "    </tr>\n",
              "    <tr>\n",
              "      <th>max</th>\n",
              "      <td>1.000000</td>\n",
              "      <td>1.000000</td>\n",
              "      <td>1.000000</td>\n",
              "      <td>1.000000</td>\n",
              "      <td>1.000000</td>\n",
              "    </tr>\n",
              "  </tbody>\n",
              "</table>\n",
              "</div>"
            ],
            "text/plain": [
              "                 0            1            2            3            4\n",
              "count  8760.000000  8760.000000  8760.000000  8760.000000  8760.000000\n",
              "mean      0.321060     0.369808     0.407267     0.446389     0.635835\n",
              "std       0.292462     0.159921     0.235219     0.133313     0.163476\n",
              "min       0.000000     0.000000     0.000000     0.000000     0.000000\n",
              "25%       0.071888     0.254892     0.275000     0.360311     0.545455\n",
              "50%       0.231014     0.367993     0.375000     0.424567     0.656566\n",
              "75%       0.520067     0.483082     0.469444     0.513326     0.767677\n",
              "max       1.000000     1.000000     1.000000     1.000000     1.000000"
            ]
          },
          "metadata": {},
          "execution_count": 15
        }
      ]
    },
    {
      "cell_type": "markdown",
      "metadata": {
        "id": "3qBMI5mrtzon"
      },
      "source": [
        "Display scaled result"
      ]
    },
    {
      "cell_type": "code",
      "metadata": {
        "id": "-ZWIOBgQtw2E"
      },
      "source": [
        "inv_scaled = pd.DataFrame(scaler.inverse_transform(ts_scaled))"
      ],
      "execution_count": 16,
      "outputs": []
    },
    {
      "cell_type": "code",
      "metadata": {
        "colab": {
          "base_uri": "https://localhost:8080/",
          "height": 423
        },
        "id": "bVwZBbTVunr7",
        "outputId": "f73af00f-c7ab-40bb-990d-33285cee910e"
      },
      "source": [
        "inv_scaled"
      ],
      "execution_count": 17,
      "outputs": [
        {
          "output_type": "execute_result",
          "data": {
            "text/html": [
              "<div>\n",
              "<style scoped>\n",
              "    .dataframe tbody tr th:only-of-type {\n",
              "        vertical-align: middle;\n",
              "    }\n",
              "\n",
              "    .dataframe tbody tr th {\n",
              "        vertical-align: top;\n",
              "    }\n",
              "\n",
              "    .dataframe thead th {\n",
              "        text-align: right;\n",
              "    }\n",
              "</style>\n",
              "<table border=\"1\" class=\"dataframe\">\n",
              "  <thead>\n",
              "    <tr style=\"text-align: right;\">\n",
              "      <th></th>\n",
              "      <th>0</th>\n",
              "      <th>1</th>\n",
              "      <th>2</th>\n",
              "      <th>3</th>\n",
              "      <th>4</th>\n",
              "    </tr>\n",
              "  </thead>\n",
              "  <tbody>\n",
              "    <tr>\n",
              "      <th>0</th>\n",
              "      <td>1766.64</td>\n",
              "      <td>9.926</td>\n",
              "      <td>128.0</td>\n",
              "      <td>1.000480</td>\n",
              "      <td>18.263</td>\n",
              "    </tr>\n",
              "    <tr>\n",
              "      <th>1</th>\n",
              "      <td>1433.83</td>\n",
              "      <td>9.273</td>\n",
              "      <td>135.0</td>\n",
              "      <td>0.999790</td>\n",
              "      <td>18.363</td>\n",
              "    </tr>\n",
              "    <tr>\n",
              "      <th>2</th>\n",
              "      <td>1167.23</td>\n",
              "      <td>8.660</td>\n",
              "      <td>142.0</td>\n",
              "      <td>0.999592</td>\n",
              "      <td>18.663</td>\n",
              "    </tr>\n",
              "    <tr>\n",
              "      <th>3</th>\n",
              "      <td>1524.59</td>\n",
              "      <td>9.461</td>\n",
              "      <td>148.0</td>\n",
              "      <td>0.998309</td>\n",
              "      <td>18.763</td>\n",
              "    </tr>\n",
              "    <tr>\n",
              "      <th>4</th>\n",
              "      <td>1384.28</td>\n",
              "      <td>9.184</td>\n",
              "      <td>150.0</td>\n",
              "      <td>0.998507</td>\n",
              "      <td>18.963</td>\n",
              "    </tr>\n",
              "    <tr>\n",
              "      <th>...</th>\n",
              "      <td>...</td>\n",
              "      <td>...</td>\n",
              "      <td>...</td>\n",
              "      <td>...</td>\n",
              "      <td>...</td>\n",
              "    </tr>\n",
              "    <tr>\n",
              "      <th>8755</th>\n",
              "      <td>1234.70</td>\n",
              "      <td>8.848</td>\n",
              "      <td>129.0</td>\n",
              "      <td>0.998604</td>\n",
              "      <td>19.663</td>\n",
              "    </tr>\n",
              "    <tr>\n",
              "      <th>8756</th>\n",
              "      <td>1105.37</td>\n",
              "      <td>8.502</td>\n",
              "      <td>118.0</td>\n",
              "      <td>1.000090</td>\n",
              "      <td>19.063</td>\n",
              "    </tr>\n",
              "    <tr>\n",
              "      <th>8757</th>\n",
              "      <td>1405.71</td>\n",
              "      <td>9.224</td>\n",
              "      <td>117.0</td>\n",
              "      <td>0.998408</td>\n",
              "      <td>18.463</td>\n",
              "    </tr>\n",
              "    <tr>\n",
              "      <th>8758</th>\n",
              "      <td>1221.36</td>\n",
              "      <td>8.799</td>\n",
              "      <td>116.0</td>\n",
              "      <td>0.998013</td>\n",
              "      <td>18.063</td>\n",
              "    </tr>\n",
              "    <tr>\n",
              "      <th>8759</th>\n",
              "      <td>1676.77</td>\n",
              "      <td>9.748</td>\n",
              "      <td>121.0</td>\n",
              "      <td>1.000380</td>\n",
              "      <td>18.163</td>\n",
              "    </tr>\n",
              "  </tbody>\n",
              "</table>\n",
              "<p>8760 rows × 5 columns</p>\n",
              "</div>"
            ],
            "text/plain": [
              "            0      1      2         3       4\n",
              "0     1766.64  9.926  128.0  1.000480  18.263\n",
              "1     1433.83  9.273  135.0  0.999790  18.363\n",
              "2     1167.23  8.660  142.0  0.999592  18.663\n",
              "3     1524.59  9.461  148.0  0.998309  18.763\n",
              "4     1384.28  9.184  150.0  0.998507  18.963\n",
              "...       ...    ...    ...       ...     ...\n",
              "8755  1234.70  8.848  129.0  0.998604  19.663\n",
              "8756  1105.37  8.502  118.0  1.000090  19.063\n",
              "8757  1405.71  9.224  117.0  0.998408  18.463\n",
              "8758  1221.36  8.799  116.0  0.998013  18.063\n",
              "8759  1676.77  9.748  121.0  1.000380  18.163\n",
              "\n",
              "[8760 rows x 5 columns]"
            ]
          },
          "metadata": {},
          "execution_count": 17
        }
      ]
    }
  ]
}